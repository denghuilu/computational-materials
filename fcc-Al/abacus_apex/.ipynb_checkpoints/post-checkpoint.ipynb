{
 "cells": [
  {
   "cell_type": "markdown",
   "metadata": {},
   "source": [
    "Fit the EoS curves according to the all_results.json"
   ]
  },
  {
   "cell_type": "code",
   "execution_count": null,
   "metadata": {},
   "outputs": [],
   "source": [
    "import matplotlib.pyplot as plt\n",
    "import numpy as np\n",
    "from matplotlib import rcParams\n",
    "\n",
    "# Set font to DejaVu Serif for all text elements, bold, and larger size\n",
    "rcParams['font.family'] = 'serif'\n",
    "rcParams['font.serif'] = ['DejaVu Serif']\n",
    "rcParams['axes.unicode_minus'] = False\n",
    "rcParams['font.weight'] = 'bold'\n",
    "rcParams['font.size'] = 14  # Set the font size larger\n",
    "\n",
    "# Simulate some data\n",
    "k_spacing = np.linspace(0.03, 0.06, 10)\n",
    "f11 = np.random.uniform(-10, 10, len(k_spacing))\n",
    "f13 = np.random.uniform(-10, 10, len(k_spacing))\n",
    "f21 = np.random.uniform(-10, 10, len(k_spacing))\n",
    "f23 = np.random.uniform(-10, 10, len(k_spacing))\n",
    "f31 = np.random.uniform(-10, 10, len(k_spacing))\n",
    "f33 = np.random.uniform(-10, 10, len(k_spacing))\n",
    "f41 = np.random.uniform(-10, 10, len(k_spacing))\n",
    "f43 = np.random.uniform(-10, 10, len(k_spacing))\n",
    "\n",
    "# Create the plot with higher resolution\n",
    "fig, ax = plt.subplots(figsize=(10, 6), dpi=300)\n",
    "\n",
    "ax.plot(k_spacing, f11, 'o-', label='f11', color='red')\n",
    "ax.plot(k_spacing, f13, 'o-', label='f13', color='orange')\n",
    "ax.plot(k_spacing, f21, 'o-', label='f21', color='blue')\n",
    "ax.plot(k_spacing, f23, 'o-', label='f23', color='lightblue')\n",
    "ax.plot(k_spacing, f31, 'o-', label='f31', color='green')\n",
    "ax.plot(k_spacing, f33, 'o-', label='f33', color='lightgreen')\n",
    "ax.plot(k_spacing, f41, 'o-', label='f41', color='purple')\n",
    "ax.plot(k_spacing, f43, 'o-', label='f43', color='violet')\n",
    "\n",
    "ax.axhline(0, color='grey', linestyle='--')\n",
    "ax.axvline(0.04, color='black', linestyle='--')\n",
    "\n",
    "ax.set_xlabel('k-spacing (Bohr⁻¹)', fontweight='bold', fontsize=16)\n",
    "ax.set_ylabel('ΔF (meV/Å)', fontweight='bold', fontsize=16)\n",
    "ax.set_title('ECUT = 50 Ry', fontweight='bold', fontsize=18)\n",
    "\n",
    "ax.legend()\n",
    "ax.grid(True, linestyle='--')\n",
    "\n",
    "plt.show()\n"
   ]
  }
 ],
 "metadata": {
  "kernelspec": {
   "display_name": "Python 3 (ipykernel)",
   "language": "python",
   "name": "python3"
  },
  "language_info": {
   "codemirror_mode": {
    "name": "ipython",
    "version": 3
   },
   "file_extension": ".py",
   "mimetype": "text/x-python",
   "name": "python",
   "nbconvert_exporter": "python",
   "pygments_lexer": "ipython3",
   "version": "3.10.13"
  }
 },
 "nbformat": 4,
 "nbformat_minor": 4
}
